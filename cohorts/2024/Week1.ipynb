{
 "cells": [
  {
   "cell_type": "markdown",
   "id": "474d3cb1",
   "metadata": {},
   "source": [
    "### Homework Week 1"
   ]
  },
  {
   "cell_type": "code",
   "execution_count": 2,
   "id": "486a0f1a",
   "metadata": {},
   "outputs": [
    {
     "name": "stderr",
     "output_type": "stream",
     "text": [
      "/Users/evgeniy/stock-markets-analytics-zoomcamp/.venv/lib/python3.9/site-packages/urllib3/__init__.py:35: NotOpenSSLWarning: urllib3 v2 only supports OpenSSL 1.1.1+, currently the 'ssl' module is compiled with 'LibreSSL 2.8.3'. See: https://github.com/urllib3/urllib3/issues/3020\n",
      "  warnings.warn(\n"
     ]
    }
   ],
   "source": [
    "# imports\n",
    "from datetime import date\n",
    "\n",
    "import pandas_datareader as pdr\n",
    "import yfinance as yf"
   ]
  },
  {
   "cell_type": "code",
   "execution_count": 15,
   "id": "30f54dc4",
   "metadata": {},
   "outputs": [
    {
     "data": {
      "text/plain": [
       "2.5"
      ]
     },
     "execution_count": 15,
     "metadata": {},
     "output_type": "execute_result"
    }
   ],
   "source": [
    "# get GDPC1 data starting 2022\n",
    "start = date(2022, 1, 1)\n",
    "gdp_df = pdr.DataReader(\"GDPC1\", \"fred\", start=start)\n",
    "\n",
    "# calculate GDPC1_yoy as % and get mean for the last 4 quarters\n",
    "gdp_df['GDPC1_yoy'] = (gdp_df.GDPC1 / gdp_df.GDPC1.shift(4) - 1) * 100\n",
    "gdp_df.loc['2023-01-01':]['GDPC1_yoy'].mean().round(1)"
   ]
  },
  {
   "cell_type": "code",
   "execution_count": 16,
   "id": "296daab1",
   "metadata": {},
   "outputs": [
    {
     "data": {
      "text/plain": [
       "-1.1"
      ]
     },
     "execution_count": 16,
     "metadata": {},
     "output_type": "execute_result"
    }
   ],
   "source": [
    "# get DGS2 and DGS10\n",
    "start = date(2000, 1, 1)\n",
    "dsg2 = pdr.DataReader(\"DGS2\", \"fred\", start=start)\n",
    "dsg10 = pdr.DataReader(\"DGS10\", \"fred\", start=start)\n",
    "\n",
    "# join and calculate Inverse Treasury Yield\n",
    "dsg2_10 = dsg2.join(dsg10)\n",
    "dsg2_10['DGS10-DGS2'] = dsg2_10['DGS10'] - dsg2_10['DGS2']\n",
    "dsg2_10['DGS10-DGS2'].min().round(1)"
   ]
  },
  {
   "cell_type": "code",
   "execution_count": 17,
   "id": "f989d616",
   "metadata": {},
   "outputs": [
    {
     "data": {
      "text/html": [
       "<div>\n",
       "<style scoped>\n",
       "    .dataframe tbody tr th:only-of-type {\n",
       "        vertical-align: middle;\n",
       "    }\n",
       "\n",
       "    .dataframe tbody tr th {\n",
       "        vertical-align: top;\n",
       "    }\n",
       "\n",
       "    .dataframe thead th {\n",
       "        text-align: right;\n",
       "    }\n",
       "</style>\n",
       "<table border=\"1\" class=\"dataframe\">\n",
       "  <thead>\n",
       "    <tr style=\"text-align: right;\">\n",
       "      <th>Ticker</th>\n",
       "      <th>^GSPC</th>\n",
       "      <th>^MXX</th>\n",
       "      <th>snp_growth_%</th>\n",
       "      <th>ipc_growth_%</th>\n",
       "    </tr>\n",
       "    <tr>\n",
       "      <th>Date</th>\n",
       "      <th></th>\n",
       "      <th></th>\n",
       "      <th></th>\n",
       "      <th></th>\n",
       "    </tr>\n",
       "  </thead>\n",
       "  <tbody>\n",
       "    <tr>\n",
       "      <th>2024-04-02</th>\n",
       "      <td>5205.810059</td>\n",
       "      <td>57581.808594</td>\n",
       "      <td>81.0</td>\n",
       "      <td>28.0</td>\n",
       "    </tr>\n",
       "    <tr>\n",
       "      <th>2024-04-03</th>\n",
       "      <td>5211.490234</td>\n",
       "      <td>57503.390625</td>\n",
       "      <td>81.0</td>\n",
       "      <td>27.0</td>\n",
       "    </tr>\n",
       "    <tr>\n",
       "      <th>2024-04-04</th>\n",
       "      <td>5147.209961</td>\n",
       "      <td>57882.761719</td>\n",
       "      <td>79.0</td>\n",
       "      <td>28.0</td>\n",
       "    </tr>\n",
       "    <tr>\n",
       "      <th>2024-04-05</th>\n",
       "      <td>5204.339844</td>\n",
       "      <td>58092.441406</td>\n",
       "      <td>81.0</td>\n",
       "      <td>29.0</td>\n",
       "    </tr>\n",
       "    <tr>\n",
       "      <th>2024-04-08</th>\n",
       "      <td>5202.390137</td>\n",
       "      <td>57989.941406</td>\n",
       "      <td>81.0</td>\n",
       "      <td>28.0</td>\n",
       "    </tr>\n",
       "  </tbody>\n",
       "</table>\n",
       "</div>"
      ],
      "text/plain": [
       "Ticker            ^GSPC          ^MXX  snp_growth_%  ipc_growth_%\n",
       "Date                                                             \n",
       "2024-04-02  5205.810059  57581.808594          81.0          28.0\n",
       "2024-04-03  5211.490234  57503.390625          81.0          27.0\n",
       "2024-04-04  5147.209961  57882.761719          79.0          28.0\n",
       "2024-04-05  5204.339844  58092.441406          81.0          29.0\n",
       "2024-04-08  5202.390137  57989.941406          81.0          28.0"
      ]
     },
     "execution_count": 17,
     "metadata": {},
     "output_type": "execute_result"
    }
   ],
   "source": [
    "# get indexes from Yahoo\n",
    "indexes = yf.download(\n",
    "    tickers = [\"^GSPC\", \"^MXX\"],\n",
    "    start = \"2019-04-09\",\n",
    "    end = \"2024-04-09\",\n",
    "    interval = \"1d\",\n",
    "    progress=False,\n",
    "    )\n",
    "indexes = indexes['Close']\n",
    "\n",
    "# calc growth rate % and round it\n",
    "indexes['snp_growth_%'] = ((indexes['^GSPC'] / indexes.iloc[0]['^GSPC'] - 1) * 100).round()\n",
    "indexes['ipc_growth_%'] = ((indexes['^MXX'] / indexes.iloc[0]['^MXX'] - 1) * 100).round()\n",
    "indexes.tail()"
   ]
  },
  {
   "cell_type": "code",
   "execution_count": 18,
   "id": "eed0264a",
   "metadata": {},
   "outputs": [
    {
     "data": {
      "text/plain": [
       "0.42"
      ]
     },
     "execution_count": 18,
     "metadata": {},
     "output_type": "execute_result"
    }
   ],
   "source": [
    "tickers = ['2222.SR', 'BRK-B', 'AAPL', 'MSFT', 'GOOG', 'JPM']\n",
    "stocks = yf.download(\n",
    "    tickers = tickers,\n",
    "    start = \"2023-01-01\",\n",
    "    end = \"2023-12-31\",\n",
    "    interval = \"1d\",\n",
    "    progress=False,\n",
    "    )\n",
    "stocks = stocks['Adj Close'].agg(['min', 'max']).transpose()\n",
    "stocks['ratio'] = ((stocks['max'] - stocks['min']) / stocks['max']).round(2)\n",
    "stocks['ratio'].max()"
   ]
  },
  {
   "cell_type": "code",
   "execution_count": 3,
   "id": "32890133",
   "metadata": {},
   "outputs": [
    {
     "name": "stdout",
     "output_type": "stream",
     "text": [
      "2222.SR: 2.8\n",
      "BRK-B: 0.0\n",
      "AAPL: 0.5\n",
      "MSFT: 0.7\n",
      "GOOG: 0.0\n",
      "JPM: 2.4\n",
      "Max: 2.8\n"
     ]
    }
   ],
   "source": [
    "tickers = ['2222.SR', 'BRK-B', 'AAPL', 'MSFT', 'GOOG', 'JPM']\n",
    "start = '2023-01-01'\n",
    "end = '2023-12-31'\n",
    "max_yield = 0\n",
    "\n",
    "for ticker in tickers:\n",
    "    actions = yf.Ticker(ticker).get_actions()\n",
    "    sum_dividends = actions.loc[start:end]['Dividends'].sum()\n",
    "    stock = yf.download(\n",
    "        tickers = ticker,\n",
    "        start = start,\n",
    "        end = end,\n",
    "        interval = \"1d\",\n",
    "        progress=False,\n",
    "        )\n",
    "    price_max =  stock.iloc[-1]['Adj Close']\n",
    "    div_yield =  (sum_dividends / price_max * 100).round(1)\n",
    "    print(f'{ticker}: {div_yield}')\n",
    "    if  div_yield > max_yield:\n",
    "        max_yield = div_yield\n",
    "print(f\"Max: {max_yield}\")"
   ]
  },
  {
   "cell_type": "code",
   "execution_count": null,
   "id": "11147b49",
   "metadata": {},
   "outputs": [],
   "source": []
  }
 ],
 "metadata": {
  "kernelspec": {
   "display_name": "Python 3 (ipykernel)",
   "language": "python",
   "name": "python3"
  },
  "language_info": {
   "codemirror_mode": {
    "name": "ipython",
    "version": 3
   },
   "file_extension": ".py",
   "mimetype": "text/x-python",
   "name": "python",
   "nbconvert_exporter": "python",
   "pygments_lexer": "ipython3",
   "version": "3.9.6"
  }
 },
 "nbformat": 4,
 "nbformat_minor": 5
}
